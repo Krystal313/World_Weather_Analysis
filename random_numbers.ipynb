{
 "cells": [
  {
   "cell_type": "code",
   "execution_count": 1,
   "id": "af626012",
   "metadata": {},
   "outputs": [],
   "source": [
    "# Import the random module.\n",
    "import random"
   ]
  },
  {
   "cell_type": "code",
   "execution_count": 2,
   "id": "a058589c",
   "metadata": {},
   "outputs": [
    {
     "data": {
      "text/plain": [
       "-53"
      ]
     },
     "execution_count": 2,
     "metadata": {},
     "output_type": "execute_result"
    }
   ],
   "source": [
    "# To get a random single integer between -90 and 90\n",
    "random.randint(-90,90)"
   ]
  },
  {
   "cell_type": "code",
   "execution_count": 3,
   "id": "7f04ca2d",
   "metadata": {},
   "outputs": [
    {
     "data": {
      "text/plain": [
       "0.41235565175260835"
      ]
     },
     "execution_count": 3,
     "metadata": {},
     "output_type": "execute_result"
    }
   ],
   "source": [
    "# To get a floating - point decimal number between 0 and 1.0.\n",
    "random.random()"
   ]
  },
  {
   "cell_type": "code",
   "execution_count": 4,
   "id": "f6a94f6c",
   "metadata": {},
   "outputs": [
    {
     "data": {
      "text/plain": [
       "-82.06313712943678"
      ]
     },
     "execution_count": 4,
     "metadata": {},
     "output_type": "execute_result"
    }
   ],
   "source": [
    "# To generate a floating-point decimal between –90 and 90, we can generate a random latitude.\n",
    "random_number = random.randint(-90,89) + random.random()\n",
    "random_number\n"
   ]
  },
  {
   "cell_type": "code",
   "execution_count": 5,
   "id": "c87fc14d",
   "metadata": {},
   "outputs": [
    {
     "name": "stdout",
     "output_type": "stream",
     "text": [
      "[-36.20302191802286, 53.475696921041994, 10.941558445950053, -66.52480235108231, 74.44977981611243, 63.81378717919653, -61.77915603066493, -3.638414007020187, -9.882350909240625, 52.99674654719322]\n"
     ]
    }
   ],
   "source": [
    "## Sample of what it might take to generate ten random floating-point decimal latitudes between –90 and 89.\n",
    "\n",
    "# Assign the variable x to 1.\n",
    "# Initialize an empty list, latitudes.\n",
    "# We create a while loop where we generate a random latitude and add it to the list.\n",
    "# After the random latitude is added to the list we add one to the variable \"x\".\n",
    "# The while loop condition is checked again and will continue to run as long as x is less than 11.\n",
    "\n",
    "x = 1\n",
    "latitudes = []\n",
    "while x < 11:\n",
    "    random_lat = random.randint(-90, 89) + random.random()\n",
    "    latitudes.append(random_lat)\n",
    "    x += 1\n",
    "print(latitudes)"
   ]
  },
  {
   "cell_type": "code",
   "execution_count": 6,
   "id": "1066e36f",
   "metadata": {},
   "outputs": [
    {
     "data": {
      "text/plain": [
       "10"
      ]
     },
     "execution_count": 6,
     "metadata": {},
     "output_type": "execute_result"
    }
   ],
   "source": [
    "#Add a \"step\" parameter and set it equal to an integer, which will generate increments of a given integer value , from the lower to the upper limit.\n",
    "\n",
    "random.randrange(-90, 90, step=1)"
   ]
  },
  {
   "cell_type": "code",
   "execution_count": 7,
   "id": "1d0ab507",
   "metadata": {},
   "outputs": [
    {
     "data": {
      "text/plain": [
       "-18"
      ]
     },
     "execution_count": 7,
     "metadata": {},
     "output_type": "execute_result"
    }
   ],
   "source": [
    "#The output is a number between -90 and 90, where the difference between each number in the sequence is 3\n",
    "random.randrange(-90, 90, step=3)\n"
   ]
  },
  {
   "cell_type": "code",
   "execution_count": 8,
   "id": "b8f5e406",
   "metadata": {},
   "outputs": [
    {
     "data": {
      "text/plain": [
       "14.806368133881719"
      ]
     },
     "execution_count": 8,
     "metadata": {},
     "output_type": "execute_result"
    }
   ],
   "source": [
    "#Generate a floating-point decimal number between two given numbers inside the parentheses\n",
    "random.uniform(-90,90)"
   ]
  },
  {
   "cell_type": "code",
   "execution_count": 9,
   "id": "b1c060e9",
   "metadata": {},
   "outputs": [
    {
     "data": {
      "text/plain": [
       "-41.36873089557907"
      ]
     },
     "execution_count": 9,
     "metadata": {},
     "output_type": "execute_result"
    }
   ],
   "source": [
    "# Import the NumPy module.\n",
    "import numpy as np\n",
    "np.random.uniform(-90.000,90.000)"
   ]
  },
  {
   "cell_type": "code",
   "execution_count": 10,
   "id": "efa9ff91",
   "metadata": {},
   "outputs": [
    {
     "data": {
      "text/plain": [
       "array([ 40.86506752,  55.20347575,  23.50112721,  -8.94612044,\n",
       "        31.69175977, -75.98109285,  20.96269693,  26.50696267,\n",
       "       -22.72943855, -15.31241257,  40.04549091,   7.47694666,\n",
       "       -85.85383943,  83.88361597,  46.84551114, -80.21157279,\n",
       "        50.6971965 , -86.22662178,  27.33829004, -66.34578811,\n",
       "        62.97609453,  20.04684801,  81.40535066,  34.09375616,\n",
       "       -45.92392935, -65.22085042,  17.90263684, -59.51579563,\n",
       "       -86.3546839 , -48.75391843,   6.65237407,  63.92302553,\n",
       "       -37.41135184, -40.33303165, -50.7365937 ,   7.30484206,\n",
       "        74.16101181,  -6.82016191,  65.72055342,  59.60058056,\n",
       "        10.06228062,   1.61723786, -66.09109281, -14.21291273,\n",
       "       -86.45657981,  29.10707313,  64.35840179, -68.46828257,\n",
       "        35.62403404, -60.34763874])"
      ]
     },
     "execution_count": 10,
     "metadata": {},
     "output_type": "execute_result"
    }
   ],
   "source": [
    "# add \"size\" to generate more than one floating point decimal number, the n\n",
    "np.random.uniform(-90.000,90.000, size = 50)\n"
   ]
  },
  {
   "cell_type": "code",
   "execution_count": 11,
   "id": "9a513659",
   "metadata": {},
   "outputs": [
    {
     "data": {
      "text/plain": [
       "array([ 50.57579657,  41.65559278, -23.70576101, ..., -40.12035113,\n",
       "        87.29654743, -38.35618766])"
      ]
     },
     "execution_count": 11,
     "metadata": {},
     "output_type": "execute_result"
    }
   ],
   "source": [
    "np.random.uniform(-90.000,90.000, size = 1500)"
   ]
  },
  {
   "cell_type": "code",
   "execution_count": 12,
   "id": "606ff8af",
   "metadata": {},
   "outputs": [
    {
     "name": "stdout",
     "output_type": "stream",
     "text": [
      "16.7 µs ± 460 ns per loop (mean ± std. dev. of 7 runs, 100000 loops each)\n"
     ]
    }
   ],
   "source": [
    "#to test how long a piece of code / function takes to run, we can import the timeit and use %timeit.\n",
    "import timeit\n",
    "%timeit np.random.uniform(-90.000,90.000, size = 1500)"
   ]
  },
  {
   "cell_type": "code",
   "execution_count": 13,
   "id": "c85d531c",
   "metadata": {},
   "outputs": [
    {
     "name": "stdout",
     "output_type": "stream",
     "text": [
      "1.96 ms ± 225 µs per loop (mean ± std. dev. of 7 runs, 1000 loops each)\n"
     ]
    }
   ],
   "source": [
    "def latitudes(size):\n",
    "    latitudes = []\n",
    "    x = 0\n",
    "    while x < (size):\n",
    "        random_lat = random.randint(-90,90) + random.random()\n",
    "        latitudes.append(random_lat)\n",
    "        x +=1\n",
    "    return latitudes\n",
    "#Call the function with 1500.\n",
    "%timeit latitudes(1500)"
   ]
  },
  {
   "cell_type": "code",
   "execution_count": null,
   "id": "3872d8be",
   "metadata": {},
   "outputs": [],
   "source": []
  }
 ],
 "metadata": {
  "kernelspec": {
   "display_name": "PythonData",
   "language": "python",
   "name": "pythondata"
  },
  "language_info": {
   "codemirror_mode": {
    "name": "ipython",
    "version": 3
   },
   "file_extension": ".py",
   "mimetype": "text/x-python",
   "name": "python",
   "nbconvert_exporter": "python",
   "pygments_lexer": "ipython3",
   "version": "3.9.7"
  }
 },
 "nbformat": 4,
 "nbformat_minor": 5
}
